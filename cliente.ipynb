{
 "cells": [
  {
   "cell_type": "code",
   "execution_count": 5,
   "id": "ffbe1f20",
   "metadata": {},
   "outputs": [
    {
     "name": "stdout",
     "output_type": "stream",
     "text": [
      "<class 'pandas.core.frame.DataFrame'>\n",
      "RangeIndex: 48326 entries, 0 to 48325\n",
      "Data columns (total 20 columns):\n",
      " #   Column                 Non-Null Count  Dtype         \n",
      "---  ------                 --------------  -----         \n",
      " 0   VendorID               48326 non-null  int32         \n",
      " 1   lpep_pickup_datetime   48326 non-null  datetime64[us]\n",
      " 2   lpep_dropoff_datetime  48326 non-null  datetime64[us]\n",
      " 3   store_and_fwd_flag     46490 non-null  object        \n",
      " 4   RatecodeID             46490 non-null  float64       \n",
      " 5   PULocationID           48326 non-null  int32         \n",
      " 6   DOLocationID           48326 non-null  int32         \n",
      " 7   passenger_count        46490 non-null  float64       \n",
      " 8   trip_distance          48326 non-null  float64       \n",
      " 9   fare_amount            48326 non-null  float64       \n",
      " 10  extra                  48326 non-null  float64       \n",
      " 11  mta_tax                48326 non-null  float64       \n",
      " 12  tip_amount             48326 non-null  float64       \n",
      " 13  tolls_amount           48326 non-null  float64       \n",
      " 14  ehail_fee              0 non-null      float64       \n",
      " 15  improvement_surcharge  48326 non-null  float64       \n",
      " 16  total_amount           48326 non-null  float64       \n",
      " 17  payment_type           46490 non-null  float64       \n",
      " 18  trip_type              46483 non-null  float64       \n",
      " 19  congestion_surcharge   46490 non-null  float64       \n",
      "dtypes: datetime64[us](2), float64(14), int32(3), object(1)\n",
      "memory usage: 6.8+ MB\n",
      "None\n"
     ]
    }
   ],
   "source": [
    "import pandas as pd\n",
    "\n",
    "df = pd.read_parquet(\"NYCTripSmall.parquet\")\n",
    "\n",
    "\n",
    "print(df.info())"
   ]
  },
  {
   "cell_type": "markdown",
   "id": "3a11e5e1",
   "metadata": {},
   "source": [
    "Vamos a importar la tabla de datos\n"
   ]
  }
 ],
 "metadata": {
  "kernelspec": {
   "display_name": "Python 3",
   "language": "python",
   "name": "python3"
  },
  "language_info": {
   "codemirror_mode": {
    "name": "ipython",
    "version": 3
   },
   "file_extension": ".py",
   "mimetype": "text/x-python",
   "name": "python",
   "nbconvert_exporter": "python",
   "pygments_lexer": "ipython3",
   "version": "3.13.2"
  }
 },
 "nbformat": 4,
 "nbformat_minor": 5
}
