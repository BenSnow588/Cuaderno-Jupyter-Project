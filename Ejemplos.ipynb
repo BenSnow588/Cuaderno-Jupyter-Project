{
 "cells": [
  {
   "cell_type": "markdown",
   "metadata": {},
   "source": [
    "Vamos a crear una tabla de datos \n",
    "Importar la biblioteca de Pandas como pd\n",
    "Defina datos con columnas y filas en una variable denominada d\n",
    "Cree una trama de datos utilizando la función pd. DataFrame()\n",
    "El marco de datos contiene 3 columnas y 5 filas\n",
    "Imprima la salida de la trama de datos con la función print()"
   ]
  },
  {
   "cell_type": "code",
   "execution_count": 1,
   "metadata": {},
   "outputs": [
    {
     "name": "stdout",
     "output_type": "stream",
     "text": [
      "   Sushi  precio  Calificacion\n",
      "0      1       4             7\n",
      "1      2       5             8\n",
      "2      3       6            12\n",
      "3      4       9             1\n",
      "4      7       5            11\n"
     ]
    }
   ],
   "source": [
    "import pandas as pd\n",
    "\n",
    "d = {'Sushi': [1, 2, 3, 4, 7], 'precio': [4, 5, 6, 9, 5], 'Calificacion': [7, 8, 12, 1, 11]}\n",
    "df = pd.DataFrame(d)\n",
    "print(df)"
   ]
  },
  {
   "cell_type": "markdown",
   "metadata": {},
   "source": [
    "Vamos a contar las columnas y filas. La funcion que podemos utilizar es \".shape\". Destacar que \"shape\" solo funcionara siempre y cuando se haya creado un df(DataFrame) con pandas"
   ]
  },
  {
   "cell_type": "code",
   "execution_count": 53,
   "metadata": {},
   "outputs": [
    {
     "name": "stdout",
     "output_type": "stream",
     "text": [
      "La tabla contiene 3 columnas y 5 filas\n"
     ]
    }
   ],
   "source": [
    "count_colum = df.shape[1]\n",
    "count_row = df.shape[0]\n",
    "print(\"La tabla contiene\", count_colum, \"columnas y\", count_row, \"filas\" )"
   ]
  },
  {
   "cell_type": "markdown",
   "metadata": {},
   "source": [
    "En la ciencia de datos nos podemos encontrar con tres tipos de funciones o datos. los cuales seria: Max(), Min()y mean()  que seria el promedio. (Vamoas a trabajar con una tabla de datos sacadas de la pagina de tutoriales: https://www.w3schools.com/datascience/ds_functions.asp )/ La funciones tambien son sacadas de ahi con algunas modificaciones de explicacion eh idioma"
   ]
  },
  {
   "cell_type": "code",
   "execution_count": 54,
   "metadata": {},
   "outputs": [
    {
     "name": "stdout",
     "output_type": "stream",
     "text": [
      "El valor maximo es 125\n",
      "El valor minimo es 80\n"
     ]
    }
   ],
   "source": [
    "P_promedioMax = max(80, 85, 90, 95, 100, 105, 110, 115, 120, 125) #Para sacar el valor max de este conjunto de datos\n",
    "P_promedioMin = min(80, 85, 90, 95, 100, 105, 110, 115, 120, 125) #Para sacar el valor min de este conjunto de datos\n",
    "\n",
    "print(\"El valor maximo es\",P_promedioMax )\n",
    "print(\"El valor minimo es\",P_promedioMin )\n"
   ]
  },
  {
   "cell_type": "markdown",
   "metadata": {},
   "source": [
    "Para el promedio vamos a utilizar la columna del consumo de calorias:\n",
    "Pasos:\n",
    "1) Importar la libreriaa numpy\n",
    "2) Crear la lista con los datos \n",
    "3) Creaar nuevaa variable Llamar a la funcion mean(variable_datos) de numpy\n",
    "4) Mandamos a llamar a el valor mediante un print(x)"
   ]
  },
  {
   "cell_type": "code",
   "execution_count": 55,
   "metadata": {},
   "outputs": [
    {
     "name": "stdout",
     "output_type": "stream",
     "text": [
      "El promedio de consumo de calorias es: 285.0\n"
     ]
    }
   ],
   "source": [
    "import numpy as np\n",
    "\n",
    "consumo_calorias = [240, 250, 260, 270, 280, 290, 300, 310, 320, 330 ]\n",
    "consumo_caloriasP = np.mean(consumo_calorias)\n",
    "print(\"El promedio de consumo de calorias es:\", consumo_caloriasP)\n"
   ]
  },
  {
   "cell_type": "markdown",
   "metadata": {},
   "source": [
    "Extraccion de datos. Utilizamos la libreria \"pandas\" para la extraccion de un archivo.csv. En este caso utilizare una tabla de datos de spotify del 2024\n",
    "1) Importamos pandas \"Import panda as pd\"\n",
    "2) mandamos a llamar el aarchivo csv con \"pd.read_csv(\"x.csv\", header=0, sep=\",\")\"\n",
    "3) Imprimir el DF \"print(x)\"\n",
    "\n",
    "Importar la biblioteca de Pandas\n",
    "Asigne al marco de datos el nombre .health_data\n",
    "header=0 significa que los encabezados de los nombres de las variables se encuentran en la primera fila (tenga en cuenta que 0 significa la primera fila en Python)\n",
    "sep=\",\" significa que \",\" se utiliza como separador entre el valores. Esto se debe a que estamos utilizando el tipo de archivo .csv (separado por comas valores)"
   ]
  },
  {
   "cell_type": "code",
   "execution_count": 56,
   "metadata": {},
   "outputs": [
    {
     "name": "stdout",
     "output_type": "stream",
     "text": [
      "                      artist                         song  duration_ms  \\\n",
      "0             Britney Spears       Oops!...I Did It Again       211160   \n",
      "1                  blink-182         All The Small Things       167066   \n",
      "2                 Faith Hill                      Breathe       250546   \n",
      "3                   Bon Jovi                 It's My Life       224493   \n",
      "4                     *NSYNC                  Bye Bye Bye       200560   \n",
      "...                      ...                          ...          ...   \n",
      "2495                     Joe  Cha Cha Slide - Hardino Mix       205419   \n",
      "2496  Manic Street Preachers             Treat You Better       203036   \n",
      "2497                   Nelly           You Belong With Me       185800   \n",
      "2498          Britney Spears              If I Were a Boy       204501   \n",
      "2499            Electric Six       Into You (feat. Tamia)       227414   \n",
      "\n",
      "      explicit  year  popularity  danceability    energy  key  loudness  mode  \\\n",
      "0        False  2000          77      0.751000  0.834000    1 -5.444000     0   \n",
      "1        False  1999          79      0.434000  0.897000    0 -4.918000     1   \n",
      "2        False  1999          66      0.529000  0.496000    7 -9.007000     1   \n",
      "3        False  2000          78      0.551000  0.913000    0 -4.063000     0   \n",
      "4        False  2000          65      0.614000  0.928000    8 -4.806000     0   \n",
      "...        ...   ...         ...           ...       ...  ...       ...   ...   \n",
      "2495      True  2003          56      0.877076  1.019989    4 -6.909447     0   \n",
      "2496     False  2017          48      0.697397  0.802301    2 -2.119849     0   \n",
      "2497      True  2004          38      0.780144  0.795497    2 -8.321846     0   \n",
      "2498      True  2008          56      0.469644  0.949442   12 -6.761696     0   \n",
      "2499     False  2011          87      0.609878  0.858538    5 -3.949681     0   \n",
      "\n",
      "      speechiness  acousticness  instrumentalness  liveness   valence  \\\n",
      "0        0.043700      0.300000          0.000018  0.355000  0.894000   \n",
      "1        0.048800      0.010300          0.000000  0.612000  0.684000   \n",
      "2        0.029000      0.173000          0.000000  0.251000  0.278000   \n",
      "3        0.046600      0.026300          0.000013  0.347000  0.544000   \n",
      "4        0.051600      0.040800          0.001040  0.084500  0.879000   \n",
      "...           ...           ...               ...       ...       ...   \n",
      "2495     0.254047      0.209194         -0.001288  0.180992  0.784095   \n",
      "2496    -0.024365      0.048752          0.218164  0.229089  0.402616   \n",
      "2497     0.193214     -0.049711          0.074537 -0.008490  0.540438   \n",
      "2498     0.087247      0.205194          0.119148  0.069258  0.552747   \n",
      "2499     0.070667      0.043087         -0.000892 -0.199144  0.361711   \n",
      "\n",
      "           tempo                        genre  \n",
      "0      95.053000                          pop  \n",
      "1     148.726000                    rock, pop  \n",
      "2     136.859000                 pop, country  \n",
      "3     119.992000                  rock, metal  \n",
      "4     172.656000                          pop  \n",
      "...          ...                          ...  \n",
      "2495  137.319308   pop, R&B, Dance/Electronic  \n",
      "2496   66.596969                 hip hop, pop  \n",
      "2497  145.006414  rock, pop, Dance/Electronic  \n",
      "2498  108.050301  rock, pop, Dance/Electronic  \n",
      "2499   96.370380      World/Traditional, rock  \n",
      "\n",
      "[2500 rows x 18 columns]\n",
      "           artist                    song  duration_ms  explicit  year  \\\n",
      "0  Britney Spears  Oops!...I Did It Again       211160     False  2000   \n",
      "1       blink-182    All The Small Things       167066     False  1999   \n",
      "2      Faith Hill                 Breathe       250546     False  1999   \n",
      "3        Bon Jovi            It's My Life       224493     False  2000   \n",
      "4          *NSYNC             Bye Bye Bye       200560     False  2000   \n",
      "\n",
      "   popularity  danceability  energy  key  loudness  mode  speechiness  \\\n",
      "0          77         0.751   0.834    1    -5.444     0       0.0437   \n",
      "1          79         0.434   0.897    0    -4.918     1       0.0488   \n",
      "2          66         0.529   0.496    7    -9.007     1       0.0290   \n",
      "3          78         0.551   0.913    0    -4.063     0       0.0466   \n",
      "4          65         0.614   0.928    8    -4.806     0       0.0516   \n",
      "\n",
      "   acousticness  instrumentalness  liveness  valence    tempo         genre  \n",
      "0        0.3000          0.000018    0.3550    0.894   95.053           pop  \n",
      "1        0.0103          0.000000    0.6120    0.684  148.726     rock, pop  \n",
      "2        0.1730          0.000000    0.2510    0.278  136.859  pop, country  \n",
      "3        0.0263          0.000013    0.3470    0.544  119.992   rock, metal  \n",
      "4        0.0408          0.001040    0.0845    0.879  172.656           pop  \n"
     ]
    }
   ],
   "source": [
    "import pandas as pd\n",
    "df = pd.read_csv(\"Spotify_2024.csv\", header=0, sep=\",\")\n",
    "print(df)\n",
    "print(df.head()) # Paara imrprimir los primeros datos"
   ]
  },
  {
   "cell_type": "markdown",
   "metadata": {},
   "source": [
    "Para limpiar y eliinar datos dañados o por abc motivo seria con la siguiente funcion \"dropna\""
   ]
  },
  {
   "cell_type": "code",
   "execution_count": 3,
   "metadata": {},
   "outputs": [
    {
     "name": "stdout",
     "output_type": "stream",
     "text": [
      "                      artist                         song  duration_ms  \\\n",
      "0             Britney Spears       Oops!...I Did It Again       211160   \n",
      "1                  blink-182         All The Small Things       167066   \n",
      "2                 Faith Hill                      Breathe       250546   \n",
      "3                   Bon Jovi                 It's My Life       224493   \n",
      "4                     *NSYNC                  Bye Bye Bye       200560   \n",
      "...                      ...                          ...          ...   \n",
      "2495                     Joe  Cha Cha Slide - Hardino Mix       205419   \n",
      "2496  Manic Street Preachers             Treat You Better       203036   \n",
      "2497                   Nelly           You Belong With Me       185800   \n",
      "2498          Britney Spears              If I Were a Boy       204501   \n",
      "2499            Electric Six       Into You (feat. Tamia)       227414   \n",
      "\n",
      "      explicit  year  popularity  danceability    energy  key  loudness  mode  \\\n",
      "0        False  2000          77      0.751000  0.834000    1 -5.444000     0   \n",
      "1        False  1999          79      0.434000  0.897000    0 -4.918000     1   \n",
      "2        False  1999          66      0.529000  0.496000    7 -9.007000     1   \n",
      "3        False  2000          78      0.551000  0.913000    0 -4.063000     0   \n",
      "4        False  2000          65      0.614000  0.928000    8 -4.806000     0   \n",
      "...        ...   ...         ...           ...       ...  ...       ...   ...   \n",
      "2495      True  2003          56      0.877076  1.019989    4 -6.909447     0   \n",
      "2496     False  2017          48      0.697397  0.802301    2 -2.119849     0   \n",
      "2497      True  2004          38      0.780144  0.795497    2 -8.321846     0   \n",
      "2498      True  2008          56      0.469644  0.949442   12 -6.761696     0   \n",
      "2499     False  2011          87      0.609878  0.858538    5 -3.949681     0   \n",
      "\n",
      "      speechiness  acousticness  instrumentalness  liveness   valence  \\\n",
      "0        0.043700      0.300000          0.000018  0.355000  0.894000   \n",
      "1        0.048800      0.010300          0.000000  0.612000  0.684000   \n",
      "2        0.029000      0.173000          0.000000  0.251000  0.278000   \n",
      "3        0.046600      0.026300          0.000013  0.347000  0.544000   \n",
      "4        0.051600      0.040800          0.001040  0.084500  0.879000   \n",
      "...           ...           ...               ...       ...       ...   \n",
      "2495     0.254047      0.209194         -0.001288  0.180992  0.784095   \n",
      "2496    -0.024365      0.048752          0.218164  0.229089  0.402616   \n",
      "2497     0.193214     -0.049711          0.074537 -0.008490  0.540438   \n",
      "2498     0.087247      0.205194          0.119148  0.069258  0.552747   \n",
      "2499     0.070667      0.043087         -0.000892 -0.199144  0.361711   \n",
      "\n",
      "           tempo                        genre  \n",
      "0      95.053000                          pop  \n",
      "1     148.726000                    rock, pop  \n",
      "2     136.859000                 pop, country  \n",
      "3     119.992000                  rock, metal  \n",
      "4     172.656000                          pop  \n",
      "...          ...                          ...  \n",
      "2495  137.319308   pop, R&B, Dance/Electronic  \n",
      "2496   66.596969                 hip hop, pop  \n",
      "2497  145.006414  rock, pop, Dance/Electronic  \n",
      "2498  108.050301  rock, pop, Dance/Electronic  \n",
      "2499   96.370380      World/Traditional, rock  \n",
      "\n",
      "[2500 rows x 18 columns]\n"
     ]
    }
   ],
   "source": [
    "# Importa la biblioteca pandas para trabajar con estructuras de datos como DataFrames.\n",
    "import pandas as pd\n",
    "\n",
    "# Lee el archivo CSV \"Spotify_2024.csv\" en un DataFrame.\n",
    "# Parámetros:\n",
    "# - header=0: Indica que la primera fila del archivo contiene los nombres de las columnas.\n",
    "# - sep=\",\": Especifica que las columnas están separadas por comas.\n",
    "df = pd.read_csv(\"Spotify_2024.csv\", header=0, sep=\",\")\n",
    "\n",
    "# Elimina las filas que contienen valores nulos (NaN) en cualquier columna.\n",
    "# Parámetros:\n",
    "# - axis=0: Indica que se eliminarán filas (en lugar de columnas).\n",
    "# - inplace=True: Aplica los cambios directamente al DataFrame original sin necesidad de asignarlo a una nueva variable.\n",
    "df.dropna(axis=0, inplace=True)\n",
    "\n",
    "# Imprime el DataFrame final, mostrando solo las filas sin valores nulos.\n",
    "print(df)\n"
   ]
  },
  {
   "cell_type": "markdown",
   "metadata": {},
   "source": [
    "Para ver los tipos de datos utilizaremos la funcion \"x.info()\""
   ]
  },
  {
   "cell_type": "code",
   "execution_count": 58,
   "metadata": {},
   "outputs": [
    {
     "name": "stdout",
     "output_type": "stream",
     "text": [
      "<class 'pandas.core.frame.DataFrame'>\n",
      "RangeIndex: 2500 entries, 0 to 2499\n",
      "Data columns (total 18 columns):\n",
      " #   Column            Non-Null Count  Dtype  \n",
      "---  ------            --------------  -----  \n",
      " 0   artist            2500 non-null   object \n",
      " 1   song              2500 non-null   object \n",
      " 2   duration_ms       2500 non-null   int64  \n",
      " 3   explicit          2500 non-null   bool   \n",
      " 4   year              2500 non-null   int64  \n",
      " 5   popularity        2500 non-null   int64  \n",
      " 6   danceability      2500 non-null   float64\n",
      " 7   energy            2500 non-null   float64\n",
      " 8   key               2500 non-null   int64  \n",
      " 9   loudness          2500 non-null   float64\n",
      " 10  mode              2500 non-null   int64  \n",
      " 11  speechiness       2500 non-null   float64\n",
      " 12  acousticness      2500 non-null   float64\n",
      " 13  instrumentalness  2500 non-null   float64\n",
      " 14  liveness          2500 non-null   float64\n",
      " 15  valence           2500 non-null   float64\n",
      " 16  tempo             2500 non-null   float64\n",
      " 17  genre             2500 non-null   object \n",
      "dtypes: bool(1), float64(9), int64(5), object(3)\n",
      "memory usage: 334.6+ KB\n",
      "None\n"
     ]
    }
   ],
   "source": [
    "# Importa la biblioteca pandas para trabajar con estructuras de datos como DataFrames.\n",
    "import pandas as pd\n",
    "\n",
    "# Lee el archivo CSV \"Tabla_datos2.csv\" en un DataFrame.\n",
    "# Parámetros:\n",
    "# - header=0: Indica que la primera fila del archivo contiene los nombres de las columnas.\n",
    "# - sep=\",\": Especifica que las columnas están separadas por comas.\n",
    "df = pd.read_csv(\"Spotify_2024.csv\", header=0, sep=\",\")\n",
    "\n",
    "\n",
    "# Imprime el DataFrame final, mostrando solo las filas sin valores nulos.\n",
    "\n",
    "print(df.info())\n"
   ]
  },
  {
   "cell_type": "markdown",
   "metadata": {},
   "source": [
    "Categoria de datos:\n",
    "1) Datos cuantitativos: se pueden expresar como un número o pueden cuantificarse. Se puede dividir en dos subcategorías:\n",
    "\n",
    "****Datos discretos: Los números se cuentan como \"enteros\", p. ej. número de estudiantes en una clase, número de goles en  un partido de fútbol\n",
    "\n",
    "****Datos continuos: Los números pueden ser de una precisión infinita. por ejemplo, el peso de una persona, el tamaño del zapato, la temperatura\n",
    "\n",
    "2) Datos cualitativos: no se pueden expresar como un número y no se puede cuantificar. Se puede dividir en dos subcategorías:\n",
    "\n",
    "****Datos nominales: Ejemplo: género, color de pelo, etnia\n",
    "\n",
    "****Datos ordinales: Ejemplo: grados escolares (A, B, C), Estatus económico (bajo, medio, alto)"
   ]
  },
  {
   "cell_type": "code",
   "execution_count": 4,
   "metadata": {},
   "outputs": [
    {
     "name": "stdout",
     "output_type": "stream",
     "text": [
      "<class 'pandas.core.frame.DataFrame'>\n",
      "RangeIndex: 2500 entries, 0 to 2499\n",
      "Data columns (total 18 columns):\n",
      " #   Column            Non-Null Count  Dtype  \n",
      "---  ------            --------------  -----  \n",
      " 0   artist            2500 non-null   object \n",
      " 1   song              2500 non-null   object \n",
      " 2   duration_ms       2500 non-null   int64  \n",
      " 3   explicit          2500 non-null   bool   \n",
      " 4   year              2500 non-null   int64  \n",
      " 5   popularity        2500 non-null   int64  \n",
      " 6   danceability      2500 non-null   float64\n",
      " 7   energy            2500 non-null   float64\n",
      " 8   key               2500 non-null   int64  \n",
      " 9   loudness          2500 non-null   float64\n",
      " 10  mode              2500 non-null   int64  \n",
      " 11  speechiness       2500 non-null   float64\n",
      " 12  acousticness      2500 non-null   float64\n",
      " 13  instrumentalness  2500 non-null   float64\n",
      " 14  liveness          2500 non-null   float64\n",
      " 15  valence           2500 non-null   float64\n",
      " 16  tempo             2500 non-null   float64\n",
      " 17  genre             2500 non-null   object \n",
      "dtypes: bool(1), float64(9), int64(5), object(3)\n",
      "memory usage: 334.6+ KB\n",
      "None\n"
     ]
    }
   ],
   "source": [
    "# Objetivo del Script:\n",
    "# Este script tiene como objetivo procesar y limpiar un conjunto de datos de Spotify almacenado en el archivo 'Spotify_2024.csv'.\n",
    "# El proceso incluye:\n",
    "# 1. Eliminar filas con valores faltantes (NaN) para garantizar la consistencia de los datos.\n",
    "# 2. Convertir columnas específicas, como 'danceability' y 'energy', al tipo de dato flotante (float) \n",
    "#    para asegurar su compatibilidad con cálculos y análisis estadísticos.\n",
    "# 3. Proporcionar un resumen estructurado del DataFrame, indicando el número de filas, columnas y \n",
    "#    los tipos de datos presentes, lo que permite evaluar rápidamente las características del archivo de datos.\n",
    "# Esto prepara el conjunto de datos para análisis más detallados en el contexto de ciencia de datos.\n",
    "\n",
    "#--------------------------------------------------------------------------------------------------------------------------------\n",
    "\n",
    "\n",
    "# Importar la biblioteca pandas para trabajar con datos estructurados como DataFrames.\n",
    "import pandas as pd\n",
    "\n",
    "# Leer el archivo CSV \"Spotify_2024.csv\" y cargarlo en un DataFrame.\n",
    "# Parámetros:\n",
    "# - header=0: Indica que la primera fila del archivo contiene los nombres de las columnas.\n",
    "# - sep=\",\": Especifica que las columnas están separadas por comas.\n",
    "spotify_data = pd.read_csv(\"Spotify_2024.csv\", header=0, sep=\",\")\n",
    "\n",
    "# Eliminar cualquier fila que contenga valores nulos (NaN) en alguna columna.\n",
    "# Esto asegura que solo trabajemos con filas completas.\n",
    "spotify_data.dropna(axis=0, inplace=True)\n",
    "\n",
    "# Convertir la columna \"danceability\" a tipo float para asegurar su consistencia.\n",
    "spotify_data[\"danceability\"] = spotify_data[\"danceability\"].astype(float)\n",
    "\n",
    "# Convertir la columna \"energy\" a tipo float para aplicar operaciones matemáticas si es necesario.\n",
    "spotify_data[\"energy\"] = spotify_data[\"energy\"].astype(float)\n",
    "\n",
    "# Imprimir información sobre el DataFrame, como el número de filas, columnas, y tipos de datos.\n",
    "print(spotify_data.info())\n"
   ]
  },
  {
   "cell_type": "markdown",
   "metadata": {},
   "source": [
    "Vamos hacer un analisis de datos con la funcion \"describe()\"\n",
    "Count - Counts the number of observations / Cuenta el numero de observaciones\n",
    "Mean - The average value/ El valor promedio\n",
    "Std - Standard deviation (explained in the statistics chapter) / Desviacion estandar\n",
    "Min - The lowest value / Valor minimo\n",
    "25%, 50% and 75% are percentiles (explained in the statistics chapter) / Son percentiles\n",
    "Max - The highest value / El valor maximo\n"
   ]
  },
  {
   "cell_type": "code",
   "execution_count": 2,
   "metadata": {},
   "outputs": [
    {
     "name": "stdout",
     "output_type": "stream",
     "text": [
      "         duration_ms        year   popularity  danceability       energy  \\\n",
      "count    2500.000000  2500.00000  2500.000000   2500.000000  2500.000000   \n",
      "mean   229805.793200  2009.43560    59.920000      0.666860     0.717979   \n",
      "std     39288.828211     5.86921    21.290686      0.138859     0.151014   \n",
      "min    113000.000000  1993.00000     0.000000      0.129000     0.054900   \n",
      "25%    204337.250000  2005.00000    54.000000      0.579979     0.617975   \n",
      "50%    225399.500000  2010.00000    65.000000      0.674000     0.729009   \n",
      "75%    251352.250000  2014.00000    73.000000      0.762590     0.834000   \n",
      "max    484146.000000  2029.00000   113.000000      1.158695     1.223948   \n",
      "\n",
      "               key     loudness         mode  speechiness  acousticness  \\\n",
      "count  2500.000000  2500.000000  2500.000000  2500.000000   2500.000000   \n",
      "mean      5.292000    -5.527073     0.482800     0.103534      0.129720   \n",
      "std       3.576794     1.938430     0.500604     0.095912      0.173029   \n",
      "min       0.000000   -20.514000     0.000000    -0.162588     -0.441954   \n",
      "25%       2.000000    -6.591000     0.000000     0.039700      0.014075   \n",
      "50%       5.000000    -5.355500     0.000000     0.066300      0.065900   \n",
      "75%       8.000000    -4.181000     1.000000     0.141000      0.200000   \n",
      "max      16.000000    -0.202143     2.000000     0.576000      0.976000   \n",
      "\n",
      "       instrumentalness     liveness      valence        tempo  \n",
      "count       2500.000000  2500.000000  2500.000000  2500.000000  \n",
      "mean           0.015776     0.179320     0.548095   120.168299  \n",
      "std            0.087834     0.139949     0.220854    26.804975  \n",
      "min           -0.269489    -0.199144    -0.127391    50.825567  \n",
      "25%            0.000000     0.086926     0.385299    99.876500  \n",
      "50%            0.000000     0.131028     0.550517   120.028000  \n",
      "75%            0.000533     0.248056     0.721250   135.096000  \n",
      "max            0.985000     0.853000     1.240346   210.851000  \n"
     ]
    }
   ],
   "source": [
    "import pandas as pd\n",
    "\n",
    "spotify_data = pd.read_csv(\"Spotify_2024.csv\", header=0, sep=\",\")\n",
    "\n",
    "pd.set_option('display.max_colum', None)\n",
    "print(spotify_data.describe())"
   ]
  },
  {
   "cell_type": "code",
   "execution_count": 5,
   "metadata": {},
   "outputs": [
    {
     "data": {
      "image/png": "[encoded data removed]",
      "text/plain": [
       "<Figure size 640x480 with 1 Axes>"
      ]
     },
     "metadata": {},
     "output_type": "display_data"
    }
   ],
   "source": [
    "import matplotlib.pyplot as plt\n",
    "import numpy as np\n",
    "\n",
    "# Definimos la función lineal: popularity = 3.14 * year - 6258\n",
    "def linear_function(year):\n",
    "    return 3.14 * year - 6258\n",
    "\n",
    "# Generamos valores de 'year' en el rango de los datos (1993 a 2029)\n",
    "years = np.linspace(1993, 2029, 100)  # 100 puntos para una línea suave\n",
    "popularity = linear_function(years)\n",
    "\n",
    "# Creamos el gráfico de la función lineal\n",
    "plt.plot(years, popularity, label='y = 3.14x - 6258', color='blue')\n",
    "\n",
    "# Añadimos puntos de referencia basados en las estadísticas\n",
    "# Mínimo: year=1993, popularity=0\n",
    "# Promedio: year=2009.44, popularity=59.92\n",
    "# Máximo: year=2029, popularity=113\n",
    "plt.scatter([1993, 2009.44, 2029], [0, 59.92, 113], color='red', label='Puntos de referencia')\n",
    "\n",
    "# Configuramos límites y etiquetas\n",
    "plt.xlim(xmin=1990, xmax=2030)  # Ajustamos el rango de años\n",
    "plt.ylim(ymin=0, ymax=120)      # Ajustamos el rango de popularidad\n",
    "plt.xlabel('Año (year)')\n",
    "plt.ylabel('Popularidad (popularity)')\n",
    "plt.title('Relación lineal estimada entre Año y Popularidad')\n",
    "plt.legend()\n",
    "\n",
    "# Mostramos el gráfico\n",
    "plt.grid(True)  # Opcional: agrega una cuadrícula para mejor visualización\n",
    "plt.show()"
   ]
  },
  {
   "cell_type": "markdown",
   "metadata": {},
   "source": [
    "Vamos a traducir el nombre de las columnas\n"
   ]
  },
  {
   "cell_type": "code",
   "execution_count": 2,
   "metadata": {},
   "outputs": [
    {
     "name": "stdout",
     "output_type": "stream",
     "text": [
      "<class 'pandas.core.frame.DataFrame'>\n",
      "RangeIndex: 2500 entries, 0 to 2499\n",
      "Data columns (total 18 columns):\n",
      " #   Column            Non-Null Count  Dtype  \n",
      "---  ------            --------------  -----  \n",
      " 0   artista           2500 non-null   object \n",
      " 1   canción           2500 non-null   object \n",
      " 2   duración_ms       2500 non-null   int64  \n",
      " 3   explícito         2500 non-null   bool   \n",
      " 4   año               2500 non-null   int64  \n",
      " 5   popularidad       2500 non-null   int64  \n",
      " 6   bailabilidad      2500 non-null   float64\n",
      " 7   energía           2500 non-null   float64\n",
      " 8   clave             2500 non-null   int64  \n",
      " 9   sonoridad         2500 non-null   float64\n",
      " 10  modo              2500 non-null   int64  \n",
      " 11  locuacidad        2500 non-null   float64\n",
      " 12  acústica          2500 non-null   float64\n",
      " 13  instrumentalidad  2500 non-null   float64\n",
      " 14  vivacidad         2500 non-null   float64\n",
      " 15  valencia          2500 non-null   float64\n",
      " 16  tempo             2500 non-null   float64\n",
      " 17  género            2500 non-null   object \n",
      "dtypes: bool(1), float64(9), int64(5), object(3)\n",
      "memory usage: 334.6+ KB\n",
      "None\n"
     ]
    }
   ],
   "source": [
    "import pandas as pd\n",
    "\n",
    "# Leer el archivo CSV \"Spotify_2024.csv\" y cargarlo en un DataFrame.\n",
    "# Parámetros:\n",
    "# - header=0: Indica que la primera fila del archivo contiene los nombres de las columnas.\n",
    "# - sep=\",\": Especifica que las columnas están separadas por comas.\n",
    "spotify_data = pd.read_csv(\"Spotify_2024.csv\", header=0, sep=\",\")\n",
    "\n",
    "# Eliminar cualquier fila que contenga valores nulos (NaN) en alguna columna.\n",
    "# Esto asegura que solo trabajemos con filas completas.\n",
    "spotify_data.dropna(axis=0, inplace=True)\n",
    "\n",
    "# Cambiar los nombres de las columnas al idioma español.\n",
    "spotify_data.rename(columns={\n",
    "    \"artist\": \"artista\",\n",
    "    \"song\": \"canción\",\n",
    "    \"duration_ms\": \"duración_ms\",\n",
    "    \"explicit\": \"explícito\",\n",
    "    \"year\": \"año\",\n",
    "    \"popularity\": \"popularidad\",\n",
    "    \"danceability\": \"bailabilidad\",\n",
    "    \"energy\": \"energía\",\n",
    "    \"key\": \"clave\",\n",
    "    \"loudness\": \"sonoridad\",\n",
    "    \"mode\": \"modo\",\n",
    "    \"speechiness\": \"locuacidad\",\n",
    "    \"acousticness\": \"acústica\",\n",
    "    \"instrumentalness\": \"instrumentalidad\",\n",
    "    \"liveness\": \"vivacidad\",\n",
    "    \"valence\": \"valencia\",\n",
    "    \"tempo\": \"tempo\",\n",
    "    \"genre\": \"género\"\n",
    "}, inplace=True)\n",
    "\n",
    "# Convertir la columna \"bailabilidad\" a tipo float para asegurar su consistencia.\n",
    "spotify_data[\"bailabilidad\"] = spotify_data[\"bailabilidad\"].astype(float)\n",
    "\n",
    "# Convertir la columna \"energía\" a tipo float para aplicar operaciones matemáticas si es necesario.\n",
    "spotify_data[\"energía\"] = spotify_data[\"energía\"].astype(float)\n",
    "\n",
    "# Imprimir información sobre el DataFrame, como el número de filas, columnas, y tipos de datos.\n",
    "print(spotify_data.info())"
   ]
  },
  {
   "cell_type": "markdown",
   "metadata": {},
   "source": [
    "Vamos a guardar el nvo archivo con los datos traducidos "
   ]
  },
  {
   "cell_type": "code",
   "execution_count": 3,
   "metadata": {},
   "outputs": [
    {
     "name": "stdout",
     "output_type": "stream",
     "text": [
      "El archivo con columnas traducidas ha sido guardado como 'Spotify_2024_traducido.csv'.\n"
     ]
    }
   ],
   "source": [
    "import pandas as pd\n",
    "\n",
    "# Leer el archivo CSV original\n",
    "spotify_data = pd.read_csv(\"Spotify_2024.csv\", header=0, sep=\",\")\n",
    "\n",
    "# Eliminar cualquier fila que contenga valores nulos\n",
    "spotify_data.dropna(axis=0, inplace=True)\n",
    "\n",
    "# Cambiar los nombres de las columnas al idioma español\n",
    "spotify_data.rename(columns={\n",
    "    \"artist\": \"artista\",\n",
    "    \"song\": \"canción\",\n",
    "    \"duration_ms\": \"duración_ms\",\n",
    "    \"explicit\": \"explícito\",\n",
    "    \"year\": \"año\",\n",
    "    \"popularity\": \"popularidad\",\n",
    "    \"danceability\": \"bailabilidad\",\n",
    "    \"energy\": \"energía\",\n",
    "    \"key\": \"clave\",\n",
    "    \"loudness\": \"sonoridad\",\n",
    "    \"mode\": \"modo\",\n",
    "    \"speechiness\": \"locuacidad\",\n",
    "    \"acousticness\": \"acústica\",\n",
    "    \"instrumentalness\": \"instrumentalidad\",\n",
    "    \"liveness\": \"vivacidad\",\n",
    "    \"valence\": \"valencia\",\n",
    "    \"tempo\": \"tempo\",\n",
    "    \"genre\": \"género\"\n",
    "}, inplace=True)\n",
    "\n",
    "# Guardar el DataFrame con los nombres de las columnas traducidos en un nuevo archivo CSV\n",
    "spotify_data.to_csv(\"Spotify_2024_traducido.csv\", index=False, sep=\",\", encoding='utf-8')\n",
    "\n",
    "print(\"El archivo con columnas traducidas ha sido guardado como 'Spotify_2024_traducido.csv'.\")"
   ]
  },
  {
   "cell_type": "code",
   "execution_count": 4,
   "metadata": {},
   "outputs": [
    {
     "name": "stdout",
     "output_type": "stream",
     "text": [
      "                     artista                      canción  duración_ms  \\\n",
      "0             Britney Spears       Oops!...I Did It Again       211160   \n",
      "1                  blink-182         All The Small Things       167066   \n",
      "2                 Faith Hill                      Breathe       250546   \n",
      "3                   Bon Jovi                 It's My Life       224493   \n",
      "4                     *NSYNC                  Bye Bye Bye       200560   \n",
      "...                      ...                          ...          ...   \n",
      "2495                     Joe  Cha Cha Slide - Hardino Mix       205419   \n",
      "2496  Manic Street Preachers             Treat You Better       203036   \n",
      "2497                   Nelly           You Belong With Me       185800   \n",
      "2498          Britney Spears              If I Were a Boy       204501   \n",
      "2499            Electric Six       Into You (feat. Tamia)       227414   \n",
      "\n",
      "      explícito   año  popularidad  bailabilidad   energía  clave  sonoridad  \\\n",
      "0         False  2000           77      0.751000  0.834000      1  -5.444000   \n",
      "1         False  1999           79      0.434000  0.897000      0  -4.918000   \n",
      "2         False  1999           66      0.529000  0.496000      7  -9.007000   \n",
      "3         False  2000           78      0.551000  0.913000      0  -4.063000   \n",
      "4         False  2000           65      0.614000  0.928000      8  -4.806000   \n",
      "...         ...   ...          ...           ...       ...    ...        ...   \n",
      "2495       True  2003           56      0.877076  1.019989      4  -6.909447   \n",
      "2496      False  2017           48      0.697397  0.802301      2  -2.119849   \n",
      "2497       True  2004           38      0.780144  0.795497      2  -8.321846   \n",
      "2498       True  2008           56      0.469644  0.949442     12  -6.761696   \n",
      "2499      False  2011           87      0.609878  0.858538      5  -3.949681   \n",
      "\n",
      "      modo  locuacidad  acústica  instrumentalidad  vivacidad  valencia  \\\n",
      "0        0    0.043700  0.300000          0.000018   0.355000  0.894000   \n",
      "1        1    0.048800  0.010300          0.000000   0.612000  0.684000   \n",
      "2        1    0.029000  0.173000          0.000000   0.251000  0.278000   \n",
      "3        0    0.046600  0.026300          0.000013   0.347000  0.544000   \n",
      "4        0    0.051600  0.040800          0.001040   0.084500  0.879000   \n",
      "...    ...         ...       ...               ...        ...       ...   \n",
      "2495     0    0.254047  0.209194         -0.001288   0.180992  0.784095   \n",
      "2496     0   -0.024365  0.048752          0.218164   0.229089  0.402616   \n",
      "2497     0    0.193214 -0.049711          0.074537  -0.008490  0.540438   \n",
      "2498     0    0.087247  0.205194          0.119148   0.069258  0.552747   \n",
      "2499     0    0.070667  0.043087         -0.000892  -0.199144  0.361711   \n",
      "\n",
      "           tempo                       género  \n",
      "0      95.053000                          pop  \n",
      "1     148.726000                    rock, pop  \n",
      "2     136.859000                 pop, country  \n",
      "3     119.992000                  rock, metal  \n",
      "4     172.656000                          pop  \n",
      "...          ...                          ...  \n",
      "2495  137.319308   pop, R&B, Dance/Electronic  \n",
      "2496   66.596969                 hip hop, pop  \n",
      "2497  145.006414  rock, pop, Dance/Electronic  \n",
      "2498  108.050301  rock, pop, Dance/Electronic  \n",
      "2499   96.370380      World/Traditional, rock  \n",
      "\n",
      "[2500 rows x 18 columns]\n"
     ]
    }
   ],
   "source": [
    "# Importa la biblioteca pandas para trabajar con estructuras de datos como DataFrames.\n",
    "import pandas as pd\n",
    "\n",
    "# Lee el archivo CSV \"Spotify_2024.csv\" en un DataFrame.\n",
    "# Parámetros:\n",
    "# - header=0: Indica que la primera fila del archivo contiene los nombres de las columnas.\n",
    "# - sep=\",\": Especifica que las columnas están separadas por comas.\n",
    "df = pd.read_csv(\"Spotify_2024_traducido.csv\", header=0, sep=\",\")\n",
    "\n",
    "# Elimina las filas que contienen valores nulos (NaN) en cualquier columna.\n",
    "# Parámetros:\n",
    "# - axis=0: Indica que se eliminarán filas (en lugar de columnas).\n",
    "# - inplace=True: Aplica los cambios directamente al DataFrame original sin necesidad de asignarlo a una nueva variable.\n",
    "df.dropna(axis=0, inplace=True)\n",
    "\n",
    "# Imprime el DataFrame final, mostrando solo las filas sin valores nulos.\n",
    "print(df)\n"
   ]
  },
  {
   "cell_type": "code",
   "execution_count": 5,
   "metadata": {},
   "outputs": [
    {
     "name": "stdout",
     "output_type": "stream",
     "text": [
      "El archivo limpio ha sido guardado como 'Spotify_2024_limpio.csv'.\n"
     ]
    }
   ],
   "source": [
    "# Guardar el DataFrame limpio en un nuevo archivo CSV\n",
    "df.to_csv(\"Spotify_2024_limpio.csv\", index=False, sep=\",\", encoding='utf-8')\n",
    "\n",
    "print(\"El archivo limpio ha sido guardado como 'Spotify_2024_limpio.csv'.\")"
   ]
  },
  {
   "cell_type": "code",
   "execution_count": 1,
   "metadata": {},
   "outputs": [
    {
     "name": "stdout",
     "output_type": "stream",
     "text": [
      "<class 'pandas.core.frame.DataFrame'>\n",
      "RangeIndex: 2500 entries, 0 to 2499\n",
      "Data columns (total 18 columns):\n",
      " #   Column            Non-Null Count  Dtype  \n",
      "---  ------            --------------  -----  \n",
      " 0   artista           2500 non-null   object \n",
      " 1   canción           2500 non-null   object \n",
      " 2   duración_ms       2500 non-null   int64  \n",
      " 3   explícito         2500 non-null   bool   \n",
      " 4   año               2500 non-null   int64  \n",
      " 5   popularidad       2500 non-null   int64  \n",
      " 6   bailabilidad      2500 non-null   float64\n",
      " 7   energía           2500 non-null   float64\n",
      " 8   clave             2500 non-null   int64  \n",
      " 9   sonoridad         2500 non-null   float64\n",
      " 10  modo              2500 non-null   int64  \n",
      " 11  locuacidad        2500 non-null   float64\n",
      " 12  acústica          2500 non-null   float64\n",
      " 13  instrumentalidad  2500 non-null   float64\n",
      " 14  vivacidad         2500 non-null   float64\n",
      " 15  valencia          2500 non-null   float64\n",
      " 16  tempo             2500 non-null   float64\n",
      " 17  género            2500 non-null   object \n",
      "dtypes: bool(1), float64(9), int64(5), object(3)\n",
      "memory usage: 334.6+ KB\n",
      "None\n"
     ]
    }
   ],
   "source": [
    "import pandas as pd \n",
    "df = pd.read_csv('Spotify_2024_limpio.csv')\n",
    "\n",
    "print(df.info())"
   ]
  },
  {
   "cell_type": "markdown",
   "metadata": {},
   "source": []
  }
 ],
 "metadata": {
  "kernelspec": {
   "display_name": "Python 3",
   "language": "python",
   "name": "python3"
  },
  "language_info": {
   "codemirror_mode": {
    "name": "ipython",
    "version": 3
   },
   "file_extension": ".py",
   "mimetype": "text/x-python",
   "name": "python",
   "nbconvert_exporter": "python",
   "pygments_lexer": "ipython3",
   "version": "3.13.2"
  }
 },
 "nbformat": 4,
 "nbformat_minor": 2
}
